{
 "cells": [
  {
   "cell_type": "code",
   "execution_count": 1,
   "id": "347a0997",
   "metadata": {
    "execution": {
     "iopub.execute_input": "2023-12-01T06:59:41.423317Z",
     "iopub.status.busy": "2023-12-01T06:59:41.423002Z",
     "iopub.status.idle": "2023-12-01T06:59:41.435503Z",
     "shell.execute_reply": "2023-12-01T06:59:41.434669Z"
    },
    "papermill": {
     "duration": 0.030609,
     "end_time": "2023-12-01T06:59:41.437336",
     "exception": false,
     "start_time": "2023-12-01T06:59:41.406727",
     "status": "completed"
    },
    "tags": []
   },
   "outputs": [
    {
     "data": {
      "text/html": [
       "<style>\n",
       "h1 {\n",
       "    --background: #F004;\n",
       "    --foreground: red;\n",
       "    background-color: var(--background);\n",
       "    border: 2px solid var(--foreground);\n",
       "    color: var(--foreground);\n",
       "    border-radius: 10px;\n",
       "    padding: 20px;\n",
       "}\n",
       "h2 {\n",
       "    --background: #20BEFFBB;\n",
       "    --foreground: blue;\n",
       "    background-color: var(--background);\n",
       "    border: 2px solid var(--foreground);\n",
       "    padding: 20px;\n",
       "    border-radius: 10px;\n",
       "    color: var(--foreground);\n",
       "}\n",
       "h3 {\n",
       "    --background: #FFCE8499;\n",
       "    --foreground: #F07108;\n",
       "    background-color: var(--background);\n",
       "    border: 2px solid var(--foreground);\n",
       "    padding: 10px;\n",
       "    border-radius: 10px;\n",
       "    color: var(--foreground);\n",
       "    width: 50%;\n",
       "}\n",
       "</style> \n"
      ],
      "text/plain": [
       "<IPython.core.display.HTML object>"
      ]
     },
     "metadata": {},
     "output_type": "display_data"
    }
   ],
   "source": [
    "%%HTML\n",
    "<style>\n",
    "h1 {\n",
    "    --background: #F004;\n",
    "    --foreground: red;\n",
    "    background-color: var(--background);\n",
    "    border: 2px solid var(--foreground);\n",
    "    color: var(--foreground);\n",
    "    border-radius: 10px;\n",
    "    padding: 20px;\n",
    "}\n",
    "h2 {\n",
    "    --background: #20BEFFBB;\n",
    "    --foreground: blue;\n",
    "    background-color: var(--background);\n",
    "    border: 2px solid var(--foreground);\n",
    "    padding: 20px;\n",
    "    border-radius: 10px;\n",
    "    color: var(--foreground);\n",
    "}\n",
    "h3 {\n",
    "    --background: #FFCE8499;\n",
    "    --foreground: #F07108;\n",
    "    background-color: var(--background);\n",
    "    border: 2px solid var(--foreground);\n",
    "    padding: 10px;\n",
    "    border-radius: 10px;\n",
    "    color: var(--foreground);\n",
    "    width: 50%;\n",
    "}\n",
    "</style> "
   ]
  },
  {
   "cell_type": "markdown",
   "id": "00611b62",
   "metadata": {
    "papermill": {
     "duration": 0.014414,
     "end_time": "2023-12-01T06:59:41.466450",
     "exception": false,
     "start_time": "2023-12-01T06:59:41.452036",
     "status": "completed"
    },
    "tags": []
   },
   "source": [
    "## Importing Libraries"
   ]
  },
  {
   "cell_type": "code",
   "execution_count": 2,
   "id": "6dd61fef",
   "metadata": {
    "execution": {
     "iopub.execute_input": "2023-12-01T06:59:41.496664Z",
     "iopub.status.busy": "2023-12-01T06:59:41.496403Z",
     "iopub.status.idle": "2023-12-01T06:59:45.997365Z",
     "shell.execute_reply": "2023-12-01T06:59:45.995646Z"
    },
    "papermill": {
     "duration": 4.519252,
     "end_time": "2023-12-01T06:59:46.000413",
     "exception": false,
     "start_time": "2023-12-01T06:59:41.481161",
     "status": "completed"
    },
    "tags": []
   },
   "outputs": [],
   "source": [
    "# --- --- --- TORCH --- --- --- --- --- --- --- --- ---\n",
    "import torch\n",
    "from torch import nn\n",
    "import torch.nn.functional as F\n",
    "from torch.utils.data import DataLoader, Dataset\n",
    "from torch import optim\n",
    "from torch.autograd import Variable\n",
    "\n",
    "# --- --- --- TORCH-VISION --- --- --- --- --- --- ---\n",
    "from torchvision.transforms import transforms\n",
    "from torchvision.models.vgg import vgg16\n",
    "from torchvision.models.mobilenet import MobileNetV2\n",
    "from torchvision.models.resnet import resnet50\n",
    "import torchvision.utils as utils\n",
    "\n",
    "# --- --- DATA PRE-PROCESSING AND VISUALIZATION --- ---\n",
    "from tqdm import tqdm\n",
    "import pandas as pd\n",
    "import numpy as np\n",
    "from PIL import Image\n",
    "import PIL\n",
    "from matplotlib import pyplot as plt\n",
    "import cv2\n",
    "\n",
    "# --- --- PYTHON UTILITY LIBRARIES --- --- --- --- ---\n",
    "from math import exp\n",
    "import math\n",
    "import warnings\n",
    "from os.path import join\n",
    "import os\n",
    "from os import listdir\n",
    "import gc\n",
    "import shutil\n",
    "from zipfile import ZipFile\n",
    "warnings.filterwarnings(\"ignore\")"
   ]
  },
  {
   "cell_type": "markdown",
   "id": "4ea83a1a",
   "metadata": {
    "papermill": {
     "duration": 0.014866,
     "end_time": "2023-12-01T06:59:46.032515",
     "exception": false,
     "start_time": "2023-12-01T06:59:46.017649",
     "status": "completed"
    },
    "tags": []
   },
   "source": [
    "### Constants"
   ]
  },
  {
   "cell_type": "code",
   "execution_count": 3,
   "id": "4885dc1d",
   "metadata": {
    "execution": {
     "iopub.execute_input": "2023-12-01T06:59:46.063811Z",
     "iopub.status.busy": "2023-12-01T06:59:46.063015Z",
     "iopub.status.idle": "2023-12-01T06:59:46.130320Z",
     "shell.execute_reply": "2023-12-01T06:59:46.129422Z"
    },
    "papermill": {
     "duration": 0.085248,
     "end_time": "2023-12-01T06:59:46.132511",
     "exception": false,
     "start_time": "2023-12-01T06:59:46.047263",
     "status": "completed"
    },
    "tags": []
   },
   "outputs": [
    {
     "name": "stdout",
     "output_type": "stream",
     "text": [
      "True\n"
     ]
    }
   ],
   "source": [
    "# TO SUPPORT GPU\n",
    "DEVICE = torch.device(\"cuda:0\" if torch.cuda.is_available() else \"cpu\")\n",
    "print(torch.cuda.is_available())\n",
    "# HYPER PARAMATERS\n",
    "# BASE = 2\n",
    "# ORDER = 3\n",
    "# UPSCALE_FACTOR = BASE ** ORDER\n",
    "# CROP_SIZE = UPSCALE_FACTOR * 11"
   ]
  },
  {
   "cell_type": "markdown",
   "id": "bc44bd83",
   "metadata": {
    "papermill": {
     "duration": 0.019799,
     "end_time": "2023-12-01T06:59:46.167153",
     "exception": false,
     "start_time": "2023-12-01T06:59:46.147354",
     "status": "completed"
    },
    "tags": []
   },
   "source": [
    "### Directory Structure"
   ]
  },
  {
   "cell_type": "code",
   "execution_count": 4,
   "id": "55b273f1",
   "metadata": {
    "execution": {
     "iopub.execute_input": "2023-12-01T06:59:46.201006Z",
     "iopub.status.busy": "2023-12-01T06:59:46.200281Z",
     "iopub.status.idle": "2023-12-01T06:59:47.150355Z",
     "shell.execute_reply": "2023-12-01T06:59:47.149126Z"
    },
    "papermill": {
     "duration": 0.968197,
     "end_time": "2023-12-01T06:59:47.152884",
     "exception": false,
     "start_time": "2023-12-01T06:59:46.184687",
     "status": "completed"
    },
    "tags": []
   },
   "outputs": [],
   "source": [
    "!mkdir epochs"
   ]
  },
  {
   "cell_type": "markdown",
   "id": "1c602710",
   "metadata": {
    "papermill": {
     "duration": 0.014324,
     "end_time": "2023-12-01T06:59:47.182215",
     "exception": false,
     "start_time": "2023-12-01T06:59:47.167891",
     "status": "completed"
    },
    "tags": []
   },
   "source": [
    "## Data Set Splitting (Day & Night)"
   ]
  },
  {
   "cell_type": "code",
   "execution_count": 5,
   "id": "38791101",
   "metadata": {
    "execution": {
     "iopub.execute_input": "2023-12-01T06:59:47.212958Z",
     "iopub.status.busy": "2023-12-01T06:59:47.212597Z",
     "iopub.status.idle": "2023-12-01T06:59:47.233233Z",
     "shell.execute_reply": "2023-12-01T06:59:47.232360Z"
    },
    "papermill": {
     "duration": 0.038476,
     "end_time": "2023-12-01T06:59:47.235096",
     "exception": false,
     "start_time": "2023-12-01T06:59:47.196620",
     "status": "completed"
    },
    "tags": []
   },
   "outputs": [],
   "source": [
    "day_1 = ['0.png', '1.png', '2.png', '3.png', '4.png', '5.png', '6.png', '7.png', '8.png', '9.png', '10.png', '11.png', '12.png', '13.png', '14.png', '15.png', '16.png', '17.png', '18.png', '19.png', '20.png', '21.png', '22.png', '23.png', '24.png', '25.png', '26.png', '27.png', '28.png', '29.png', '30.png', '31.png', '32.png', '33.png', '34.png', '35.png', '36.png', '37.png', '38.png', '39.png', '40.png', '41.png', '42.png', '43.png', '44.png', '45.png', '46.png', '47.png', '48.png', '49.png', '50.png', '51.png', '52.png', '53.png', '54.png', '55.png', '56.png', '57.png', '58.png', '59.png', '60.png', '61.png', '62.png', '63.png', '64.png', '65.png', '66.png', '67.png', '68.png', '69.png', '70.png', '71.png', '72.png', '73.png', '74.png', '75.png', '76.png', '77.png', '78.png', '79.png', '80.png', '81.png', '82.png', '83.png', '84.png', '85.png', '86.png', '87.png', '88.png', '89.png', '90.png', '91.png', '92.png', '93.png', '94.png', '95.png', '96.png', '97.png', '98.png', '99.png', '100.png', '101.png', '102.png']\n",
    "day_2 = ['1026000.png', '1026001.png', '1026002.png', '1026003.png', '1026004.png', '1026005.png', '1026006.png', '1026007.png', '1026008.png', '1026009.png', '10260010.png', '10260011.png', '10260012.png', '10260013.png', '10260014.png', '10260015.png', '10260016.png', '10260017.png', '10260018.png', '10260019.png', '10260020.png', '10260021.png', '10260022.png', '10260023.png', '10260024.png', '10260025.png', '10260026.png', '10260027.png', '10260028.png', '10260029.png', '10260030.png', '10260031.png', '10260032.png', '10260033.png', '10260034.png', '10260035.png', '10260036.png', '10260037.png', '10260038.png', '10260039.png', '10260040.png', '10260041.png', '10260042.png', '10260043.png', '10260044.png', '10260045.png', '10260046.png', '10260047.png', '10260048.png', '10260049.png', '10260050.png', '10260051.png', '10260052.png', '10260053.png', '10260054.png', '10260055.png', '10260056.png', '10260057.png', '10260058.png', '10260059.png', '10260060.png', '10260061.png', '10260062.png', '10260063.png', '10260064.png', '10260065.png', '10260066.png', '10260067.png', '10260068.png', '10260069.png', '10260070.png', '10260071.png', '10260072.png', '10260073.png', '10260074.png', '10260075.png', '10260076.png', '10260077.png', '10260078.png', '10260079.png', '10260080.png', '10260081.png', '10260082.png', '10260083.png', '10260084.png', '10260085.png', '10260086.png', '10260087.png', '10260088.png', '10260089.png', '10260090.png', '10260091.png', '10260092.png', '10260093.png', '10260094.png', '10260095.png', '10260096.png', '10260097.png', '10260098.png', '10260099.png', '102600100.png', '102600101.png', '102600102.png', '102600103.png', '102600104.png', '102600105.png', '102600106.png', '102600107.png', '102600108.png', '102600109.png', '102600110.png', '102600111.png', '102600112.png', '102600113.png', '102600114.png', '102600115.png', '102600116.png', '102600117.png', '102600118.png', '102600119.png', '102600120.png', '102600121.png', '102600122.png', '102600123.png', '102600124.png', '102600125.png', '102600126.png', '102600127.png', '102600128.png', '102600129.png', '102600130.png', '102600131.png', '102600132.png', '102600133.png', '102600134.png', '102600135.png', '102600136.png', '102600137.png', '102600138.png', '102600139.png', '102600140.png', '102600141.png', '102600142.png', '102600143.png', '102600144.png', '102600145.png', '102600146.png', '102600147.png', '102600148.png', '102600149.png', '102600150.png', '102600151.png', '102600152.png', '102600153.png', '102600154.png', '102600155.png', '102600156.png', '102600157.png', '102600158.png', '102600159.png', '102600160.png', '102600161.png', '102600162.png', '102600163.png', '102600164.png', '102600165.png', '102600166.png', '102600167.png', '102600168.png', '102600169.png', '102600170.png', '102600171.png', '102600172.png', '102600173.png', '102600174.png', '102600175.png', '102600176.png', '102600177.png', '102600178.png', '102600179.png', '102600180.png', '102600181.png', '102600182.png', '102600183.png', '102600184.png', '102600185.png', '102600186.png', '102600187.png', '102600188.png', '102600189.png', '102600190.png', '102600191.png', '102600192.png', '102600193.png', '102600194.png', '102600195.png', '102600196.png', '102600197.png', '102600198.png', '102600199.png', '102600200.png', '102600201.png', '102600202.png', '102600203.png', '102600204.png', '102600205.png', '102600206.png', '102600207.png', '102600208.png', '102600209.png', '102600210.png', '102600211.png', '102600212.png', '102600213.png', '102600214.png', '102600215.png', '102600216.png', '102600217.png', '102600218.png', '102600219.png', '102600220.png', '102600221.png', '102600222.png', '102600223.png', '102600224.png', '102600225.png', '102600226.png', '102600227.png', '102600228.png', '102600229.png', '102600230.png', '102600231.png', '102600232.png', '102600233.png', '102600234.png', '102600235.png', '102600236.png', '102600237.png', '102600238.png', '102600239.png', '102600240.png', '102600241.png', '102600242.png', '102600243.png', '102600244.png', '102600245.png', '102600246.png', '102600247.png', '102600248.png', '102600249.png', '102600250.png', '102600251.png', '102600252.png', '102600253.png', '102600254.png', '102600255.png', '102600256.png', '102600257.png', '102600258.png', '102600259.png', '102600260.png', '102600261.png', '102600262.png', '102600263.png', '102600264.png', '102600265.png', '102600266.png', '102600267.png', '102600268.png', '102600269.png', '102600270.png', '102600271.png', '102600272.png', '102600273.png', '102600274.png', '102600275.png']\n",
    "night_1 = ['1020.png', '1021.png', '1022.png', '1023.png', '1024.png', '1025.png', '1026.png', '1027.png', '1028.png', '1029.png', '10210.png', '10211.png', '10212.png', '10213.png', '10214.png', '10215.png', '10216.png', '10217.png', '10218.png', '10219.png', '10220.png', '10221.png', '10222.png', '10223.png', '10224.png', '10225.png', '10226.png', '10227.png', '10228.png', '102557.png', '102558.png', '102559.png', '102560.png', '102561.png', '102562.png', '102563.png', '102564.png', '102565.png', '102566.png', '102567.png', '102568.png', '102569.png', '102570.png', '102571.png', '102572.png', '102573.png', '102574.png', '102575.png', '102576.png', '102577.png', '102578.png', '102579.png', '102580.png', '102581.png', '102582.png', '102583.png', '102584.png', '102585.png', '102586.png', '102587.png', '102588.png', '102589.png', '102590.png', '102591.png', '102592.png', '102593.png', '102594.png', '102595.png', '102596.png', '102597.png', '102598.png', '102599.png', '102600.png']"
   ]
  },
  {
   "cell_type": "markdown",
   "id": "ab2091eb",
   "metadata": {
    "papermill": {
     "duration": 0.014212,
     "end_time": "2023-12-01T06:59:47.263811",
     "exception": false,
     "start_time": "2023-12-01T06:59:47.249599",
     "status": "completed"
    },
    "tags": []
   },
   "source": [
    "## Utility Functions"
   ]
  },
  {
   "cell_type": "markdown",
   "id": "52f5141d",
   "metadata": {
    "papermill": {
     "duration": 0.014222,
     "end_time": "2023-12-01T06:59:47.292292",
     "exception": false,
     "start_time": "2023-12-01T06:59:47.278070",
     "status": "completed"
    },
    "tags": []
   },
   "source": [
    "### Data Preprocessing"
   ]
  },
  {
   "cell_type": "code",
   "execution_count": 6,
   "id": "b4ceffee",
   "metadata": {
    "execution": {
     "iopub.execute_input": "2023-12-01T06:59:47.362817Z",
     "iopub.status.busy": "2023-12-01T06:59:47.362434Z",
     "iopub.status.idle": "2023-12-01T06:59:47.369215Z",
     "shell.execute_reply": "2023-12-01T06:59:47.368345Z"
    },
    "papermill": {
     "duration": 0.024955,
     "end_time": "2023-12-01T06:59:47.371117",
     "exception": false,
     "start_time": "2023-12-01T06:59:47.346162",
     "status": "completed"
    },
    "tags": []
   },
   "outputs": [],
   "source": [
    "def is_valid_image(file_name):\n",
    "    return any(file_name.endswith(ext) for ext in ['.png', '.jpg', '.jpeg', '.PNG', '.JPG', '.JPEG'])\n",
    "\n",
    "def calc_valid_crop_size(crop_size, upscale_factor):\n",
    "    return crop_size - (crop_size % upscale_factor)\n",
    "\n",
    "def high_res_transform(crop_size):\n",
    "    return transforms.Compose([transforms.RandomCrop(crop_size), transforms.ToTensor()])\n",
    "\n",
    "def low_res_transform(crop_size, upscale_factor):\n",
    "    return transforms.Compose([transforms.ToPILImage(), transforms.Resize(crop_size//upscale_factor, interpolation = Image.BICUBIC), transforms.ToTensor()])"
   ]
  },
  {
   "cell_type": "markdown",
   "id": "d363d530",
   "metadata": {
    "papermill": {
     "duration": 0.014119,
     "end_time": "2023-12-01T06:59:47.400166",
     "exception": false,
     "start_time": "2023-12-01T06:59:47.386047",
     "status": "completed"
    },
    "tags": []
   },
   "source": [
    "### Structural Similarity Index Metrix"
   ]
  },
  {
   "cell_type": "code",
   "execution_count": 7,
   "id": "f5d9bcae",
   "metadata": {
    "execution": {
     "iopub.execute_input": "2023-12-01T06:59:47.430866Z",
     "iopub.status.busy": "2023-12-01T06:59:47.430288Z",
     "iopub.status.idle": "2023-12-01T06:59:47.442665Z",
     "shell.execute_reply": "2023-12-01T06:59:47.441721Z"
    },
    "papermill": {
     "duration": 0.02995,
     "end_time": "2023-12-01T06:59:47.444725",
     "exception": false,
     "start_time": "2023-12-01T06:59:47.414775",
     "status": "completed"
    },
    "tags": []
   },
   "outputs": [],
   "source": [
    "# POST TRAINING METRICS : SSIM\n",
    "def _gaussian(window_size, sigma):\n",
    "    g = torch.Tensor([exp(-(x - window_size // 2) ** 2 / float(2 * sigma ** 2)) for x in range(window_size)])\n",
    "    return g / g.sum()\n",
    "\n",
    "def _create_window(window_size, channel):\n",
    "    dim1_window = _gaussian(window_size, 1.5).unsqueeze(1)\n",
    "    dim2_window = dim1_window.mm(dim1_window.t()).float().unsqueeze(0).unsqueeze(0)\n",
    "    window = Variable(dim2_window.expand(channel, 1, window_size, window_size).contiguous())\n",
    "    return window\n",
    "\n",
    "def _structural_similarity_index_measure(img1, img2, window, window_size, channel, size_average=True):\n",
    "    mu1 = F.conv2d(img1, window, padding=window_size // 2, groups=channel)\n",
    "    mu2 = F.conv2d(img2, window, padding=window_size // 2, groups=channel)\n",
    "    mu1_sq = mu1.pow(2)\n",
    "    mu2_sq = mu2.pow(2)\n",
    "    mu1_mu2 = mu1 * mu2\n",
    "    sigma1_sq = F.conv2d(img1 * img1, window, padding=window_size // 2, groups=channel) - mu1_sq\n",
    "    sigma2_sq = F.conv2d(img2 * img2, window, padding=window_size // 2, groups=channel) - mu2_sq\n",
    "    sigma12 = F.conv2d(img1 * img2, window, padding=window_size // 2, groups=channel) - mu1_mu2\n",
    "\n",
    "    C1 = 0.01 ** 2\n",
    "    C2 = 0.03 ** 2\n",
    "\n",
    "    ssim_map = ((2 * mu1_mu2 + C1) * (2 * sigma12 + C2)) / ((mu1_sq + mu2_sq + C1) * (sigma1_sq + sigma2_sq + C2))\n",
    "\n",
    "    if size_average:\n",
    "        return ssim_map.mean()\n",
    "    else:\n",
    "        return ssim_map.mean(1).mean(1).mean(1)\n",
    "\n",
    "def ssim(img1, img2, window_size=11, size_average=True):\n",
    "    (_, channel, _, _) = img1.size()\n",
    "    window = _create_window(window_size, channel)\n",
    "    if img1.is_cuda:\n",
    "        window = window.cuda(img1.get_device())\n",
    "    window = window.type_as(img1)\n",
    "    return _structural_similarity_index_measure(img1, img2, window, window_size, channel, size_average)"
   ]
  },
  {
   "cell_type": "markdown",
   "id": "56a8103e",
   "metadata": {
    "papermill": {
     "duration": 0.014283,
     "end_time": "2023-12-01T06:59:47.473304",
     "exception": false,
     "start_time": "2023-12-01T06:59:47.459021",
     "status": "completed"
    },
    "tags": []
   },
   "source": [
    "## Data Loaders"
   ]
  },
  {
   "cell_type": "markdown",
   "id": "80766e95",
   "metadata": {
    "papermill": {
     "duration": 0.01411,
     "end_time": "2023-12-01T06:59:47.501918",
     "exception": false,
     "start_time": "2023-12-01T06:59:47.487808",
     "status": "completed"
    },
    "tags": []
   },
   "source": [
    "### Train and Validation Data Loaders"
   ]
  },
  {
   "cell_type": "code",
   "execution_count": 8,
   "id": "6654d060",
   "metadata": {
    "execution": {
     "iopub.execute_input": "2023-12-01T06:59:47.532440Z",
     "iopub.status.busy": "2023-12-01T06:59:47.531766Z",
     "iopub.status.idle": "2023-12-01T06:59:47.538131Z",
     "shell.execute_reply": "2023-12-01T06:59:47.537405Z"
    },
    "papermill": {
     "duration": 0.023487,
     "end_time": "2023-12-01T06:59:47.539896",
     "exception": false,
     "start_time": "2023-12-01T06:59:47.516409",
     "status": "completed"
    },
    "tags": []
   },
   "outputs": [],
   "source": [
    "class ImageDataFromFolder(Dataset):\n",
    "    def __init__(self,file_names, crop_size, upscale_factor):\n",
    "        super().__init__()\n",
    "        self.image_file_names = file_names\n",
    "        self.upscale_factor = upscale_factor\n",
    "        self.crop_size = calc_valid_crop_size(crop_size, upscale_factor)\n",
    "        self.high_res_transform = high_res_transform(self.crop_size)\n",
    "        self.low_res_transform = low_res_transform(crop_size,upscale_factor)\n",
    "\n",
    "    def __getitem__(self,index):\n",
    "        hr_image = self.high_res_transform(Image.open(self.image_file_names[index]))\n",
    "        lr_image = self.low_res_transform(hr_image)\n",
    "        return lr_image, hr_image\n",
    "\n",
    "    def __len__(self):\n",
    "        return len(self.image_file_names)"
   ]
  },
  {
   "cell_type": "code",
   "execution_count": 9,
   "id": "b047c19b",
   "metadata": {
    "execution": {
     "iopub.execute_input": "2023-12-01T06:59:47.570403Z",
     "iopub.status.busy": "2023-12-01T06:59:47.569862Z",
     "iopub.status.idle": "2023-12-01T06:59:47.577712Z",
     "shell.execute_reply": "2023-12-01T06:59:47.576630Z"
    },
    "papermill": {
     "duration": 0.025086,
     "end_time": "2023-12-01T06:59:47.579623",
     "exception": false,
     "start_time": "2023-12-01T06:59:47.554537",
     "status": "completed"
    },
    "tags": []
   },
   "outputs": [],
   "source": [
    "def get_train_valid_data_loaders(data_dir_path=None, train_frac=0.8, file_names=[], ds_scale_factor=None, upscale_factor=None):\n",
    "    if len(file_names) == 0:\n",
    "        file_names = [join(data_dir,x) for x in listdir(data_dir) if is_valid_image(x)]\n",
    "    assert train_frac < 1\n",
    "    # DATASETS\n",
    "    train_set = ImageDataFromFolder(file_names= file_names[:int(len(file_names) * train_frac)] * ds_scale_factor, crop_size=CROP_SIZE, upscale_factor=upscale_factor)\n",
    "    val_set = ImageDataFromFolder(file_names= file_names[int(len(file_names) * train_frac):] * ds_scale_factor, crop_size=CROP_SIZE, upscale_factor=upscale_factor)\n",
    "    # DATA LOADERS\n",
    "    train_loader = DataLoader(dataset=train_set, num_workers=4, batch_size=16, shuffle=True)\n",
    "    val_loader = DataLoader(dataset=val_set, num_workers=4, batch_size=8, shuffle=False)\n",
    "    return train_loader, val_loader"
   ]
  },
  {
   "cell_type": "markdown",
   "id": "966a3c4f",
   "metadata": {
    "papermill": {
     "duration": 0.014488,
     "end_time": "2023-12-01T06:59:47.608711",
     "exception": false,
     "start_time": "2023-12-01T06:59:47.594223",
     "status": "completed"
    },
    "tags": []
   },
   "source": [
    "## Experimentation"
   ]
  },
  {
   "cell_type": "code",
   "execution_count": 10,
   "id": "9afc41b7",
   "metadata": {
    "execution": {
     "iopub.execute_input": "2023-12-01T06:59:47.640094Z",
     "iopub.status.busy": "2023-12-01T06:59:47.639475Z",
     "iopub.status.idle": "2023-12-01T06:59:47.698190Z",
     "shell.execute_reply": "2023-12-01T06:59:47.697309Z"
    },
    "papermill": {
     "duration": 0.076708,
     "end_time": "2023-12-01T06:59:47.700309",
     "exception": false,
     "start_time": "2023-12-01T06:59:47.623601",
     "status": "completed"
    },
    "tags": []
   },
   "outputs": [],
   "source": [
    "real_img = Image.open(\"/kaggle/input/objectdetectiondatasetcar/car/0.png\")"
   ]
  },
  {
   "cell_type": "code",
   "execution_count": null,
   "id": "5e24a303",
   "metadata": {
    "execution": {
     "iopub.execute_input": "2023-12-01T06:30:39.792871Z",
     "iopub.status.busy": "2023-12-01T06:30:39.792507Z",
     "iopub.status.idle": "2023-12-01T06:30:40.995977Z",
     "shell.execute_reply": "2023-12-01T06:30:40.994948Z",
     "shell.execute_reply.started": "2023-12-01T06:30:39.792842Z"
    },
    "papermill": {
     "duration": null,
     "end_time": null,
     "exception": false,
     "start_time": "2023-12-01T06:59:47.715399",
     "status": "running"
    },
    "tags": []
   },
   "outputs": [],
   "source": [
    "plt.figure(figsize=(20,20))\n",
    "plt.imshow(real_img)\n",
    "plt.axis(False)\n",
    "plt.show()"
   ]
  },
  {
   "cell_type": "code",
   "execution_count": null,
   "id": "2894f63e",
   "metadata": {
    "execution": {
     "iopub.execute_input": "2023-12-01T06:30:40.997911Z",
     "iopub.status.busy": "2023-12-01T06:30:40.997599Z",
     "iopub.status.idle": "2023-12-01T06:30:41.159158Z",
     "shell.execute_reply": "2023-12-01T06:30:41.157721Z",
     "shell.execute_reply.started": "2023-12-01T06:30:40.997885Z"
    },
    "papermill": {
     "duration": null,
     "end_time": null,
     "exception": null,
     "start_time": null,
     "status": "pending"
    },
    "tags": []
   },
   "outputs": [],
   "source": [
    "BASE = 2\n",
    "ORDER = 3\n",
    "TEMP_UPSCALE_FACTOR = BASE ** ORDER\n",
    "TEMP_CROP_SIZE = TEMP_UPSCALE_FACTOR * 11\n",
    "valid_crop_size = calc_valid_crop_size(TEMP_CROP_SIZE, TEMP_UPSCALE_FACTOR)\n",
    "fig, axes = plt.subplots(1, 2, figsize=(10, 5))\n",
    "hr_img = high_res_transform(valid_crop_size)(real_img)\n",
    "axes[0].imshow(hr_img.permute(1, 2, 0))\n",
    "axes[0].axis(False)\n",
    "lr_img = low_res_transform(valid_crop_size,4)(hr_img)\n",
    "axes[1].imshow(lr_img.permute(1, 2, 0))\n",
    "axes[1].axis(False)"
   ]
  },
  {
   "cell_type": "code",
   "execution_count": null,
   "id": "3553184c",
   "metadata": {
    "execution": {
     "iopub.execute_input": "2023-12-01T06:30:41.162112Z",
     "iopub.status.busy": "2023-12-01T06:30:41.161149Z",
     "iopub.status.idle": "2023-12-01T06:30:41.170447Z",
     "shell.execute_reply": "2023-12-01T06:30:41.168881Z",
     "shell.execute_reply.started": "2023-12-01T06:30:41.162056Z"
    },
    "papermill": {
     "duration": null,
     "end_time": null,
     "exception": null,
     "start_time": null,
     "status": "pending"
    },
    "tags": []
   },
   "outputs": [],
   "source": [
    "print(hr_img.size())\n",
    "print(lr_img.size())"
   ]
  },
  {
   "cell_type": "markdown",
   "id": "f848664a",
   "metadata": {
    "papermill": {
     "duration": null,
     "end_time": null,
     "exception": null,
     "start_time": null,
     "status": "pending"
    },
    "tags": []
   },
   "source": [
    "## Neural Networks Blocks"
   ]
  },
  {
   "cell_type": "markdown",
   "id": "3803612d",
   "metadata": {
    "papermill": {
     "duration": null,
     "end_time": null,
     "exception": null,
     "start_time": null,
     "status": "pending"
    },
    "tags": []
   },
   "source": [
    "__Building SRGAN Model Architecture as a Base Model__\n",
    "\n",
    "![SRGAN](https://raw.githubusercontent.com/tensorlayer/srgan/master/img/model.jpeg)"
   ]
  },
  {
   "cell_type": "markdown",
   "id": "38638fc1",
   "metadata": {
    "papermill": {
     "duration": null,
     "end_time": null,
     "exception": null,
     "start_time": null,
     "status": "pending"
    },
    "tags": []
   },
   "source": [
    "### 1. Residual Block"
   ]
  },
  {
   "cell_type": "code",
   "execution_count": null,
   "id": "5bc2199f",
   "metadata": {
    "execution": {
     "iopub.execute_input": "2023-12-01T06:31:44.031756Z",
     "iopub.status.busy": "2023-12-01T06:31:44.031358Z",
     "iopub.status.idle": "2023-12-01T06:31:44.043128Z",
     "shell.execute_reply": "2023-12-01T06:31:44.042149Z",
     "shell.execute_reply.started": "2023-12-01T06:31:44.031728Z"
    },
    "papermill": {
     "duration": null,
     "end_time": null,
     "exception": null,
     "start_time": null,
     "status": "pending"
    },
    "tags": []
   },
   "outputs": [],
   "source": [
    "# RESIDUAL BLOCK\n",
    "\"\"\"CONSISTING OF :\n",
    "1. CONVOLUTIONAL LAYER (Kernels=64, Strid=1)\n",
    "2. BATCH NORMALIZATION \n",
    "3. ReLU\n",
    "4. CONVOLUTIONAL LAYER (Kernels=64, Strid=1)\n",
    "5. BATCH NORMALIZATION \n",
    "6. ELEMENT WISE SUM\n",
    "\"\"\"\n",
    "# class ResidualBlock(nn.Module):\n",
    "    \n",
    "#     def __init__(self, channels):\n",
    "#         super(ResidualBlock, self).__init__()\n",
    "#         self.conv1 = nn.Conv2d(channels, channels, kernel_size=3, padding=1) # LEARNABLE PARAMETERS\n",
    "#         self.bn1 = nn.BatchNorm2d(channels)                                  # REGULARIZATION (BATCH NORMALIZATIOn)\n",
    "#         self.prelu = nn.PReLU()                                              # ACTIVATION FUNCTION\n",
    "#         self.conv2 = nn.Conv2d(channels, channels, kernel_size=3, padding=1) # LEARNABLE PARAMETERS\n",
    "#         self.bn2 = nn.BatchNorm2d(channels)                                  # REGULARIZATION (BATCH NORMALIZATIOn)\n",
    "        \n",
    "#     def forward(self, x):\n",
    "#         x_temp = self.conv1(x)\n",
    "#         x_temp = self.bn1(x_temp)\n",
    "#         x_temp = self.prelu(x_temp)\n",
    "#         x_temp = self.conv2(x_temp)\n",
    "#         x_temp = self.bn2(x_temp)\n",
    "#         return x + x_temp\n",
    "    \n",
    "class ResidualBlock(nn.Module):\n",
    "    \n",
    "    def __init__(self, channels ):\n",
    "        super(ResidualBlock, self).__init__()\n",
    "        self.conv1 = nn.Conv2d(channels, channels, kernel_size=3, padding=1)\n",
    "        self.prelu1 = nn.PReLU()\n",
    "        self.conv2 = nn.Conv2d(channels, channels, kernel_size=3, padding=1)\n",
    "        self.prelu2 = nn.PReLU()\n",
    "        self.conv3 = nn.Conv2d(channels, channels, kernel_size=3, padding=1)\n",
    "        self.prelu3 = nn.PReLU()\n",
    "        self.conv4 = nn.Conv2d(channels, channels, kernel_size=3, padding=1)\n",
    "        self.prelu4 = nn.PReLU()\n",
    "        self.conv5 = nn.Conv2d(channels, channels, kernel_size=3, padding=1)\n",
    "        \n",
    "    def forward(self, x):\n",
    "        x_temp_1 = self.conv1(x)\n",
    "        x_temp_1 = self.prelu1(x_temp_1)\n",
    "        \n",
    "        x_temp_2 = self.conv2(x + x_temp_1)\n",
    "        x_temp_2 = self.prelu2(x_temp_2)\n",
    "        \n",
    "        x_temp_3 = self.conv3(x + x_temp_1 + x_temp_2)\n",
    "        x_temp_3 = self.prelu3(x_temp_3)\n",
    "        \n",
    "        x_temp_4 = self.conv4(x + x_temp_1 + x_temp_2 + x_temp_3)\n",
    "        x_temp_4 = self.prelu4(x_temp_4)\n",
    "        \n",
    "        x_temp_5 = self.conv5(x + x_temp_1 + x_temp_2 + x_temp_3 + x_temp_4)\n",
    "        \n",
    "        return x + x_temp_5"
   ]
  },
  {
   "cell_type": "markdown",
   "id": "77d2b55d",
   "metadata": {
    "papermill": {
     "duration": null,
     "end_time": null,
     "exception": null,
     "start_time": null,
     "status": "pending"
    },
    "tags": []
   },
   "source": [
    "### 2. Up Sampling Block"
   ]
  },
  {
   "cell_type": "code",
   "execution_count": null,
   "id": "38212585",
   "metadata": {
    "execution": {
     "iopub.execute_input": "2023-12-01T06:30:41.200124Z",
     "iopub.status.busy": "2023-12-01T06:30:41.199198Z",
     "iopub.status.idle": "2023-12-01T06:30:41.212099Z",
     "shell.execute_reply": "2023-12-01T06:30:41.210713Z",
     "shell.execute_reply.started": "2023-12-01T06:30:41.200059Z"
    },
    "papermill": {
     "duration": null,
     "end_time": null,
     "exception": null,
     "start_time": null,
     "status": "pending"
    },
    "tags": []
   },
   "outputs": [],
   "source": [
    "class UpsampleBlock(nn.Module):\n",
    "    \n",
    "    def __init__(self, channels, up_scale_factor):\n",
    "        super(UpsampleBlock, self).__init__()\n",
    "        self.conv = nn.Conv2d(channels, channels * up_scale_factor ** 2, kernel_size=3, padding=1) # LEARNABLE PARAMETERS\n",
    "        self.pixel_shuffle = nn.PixelShuffle(up_scale_factor)                                      # SHUFFLER\n",
    "        self.prelu = nn.PReLU()                                                                    # ACTIVATION FUNCTION\n",
    "        \n",
    "    def forward(self, x):\n",
    "        x = self.conv(x)\n",
    "        x = self.pixel_shuffle(x)\n",
    "        x = self.prelu(x)\n",
    "        return x"
   ]
  },
  {
   "cell_type": "markdown",
   "id": "3cfded71",
   "metadata": {
    "papermill": {
     "duration": null,
     "end_time": null,
     "exception": null,
     "start_time": null,
     "status": "pending"
    },
    "tags": []
   },
   "source": [
    "## Generator"
   ]
  },
  {
   "cell_type": "code",
   "execution_count": null,
   "id": "5e64ed51",
   "metadata": {
    "execution": {
     "iopub.execute_input": "2023-12-01T06:30:41.319634Z",
     "iopub.status.busy": "2023-12-01T06:30:41.318984Z",
     "iopub.status.idle": "2023-12-01T06:30:41.329665Z",
     "shell.execute_reply": "2023-12-01T06:30:41.328613Z",
     "shell.execute_reply.started": "2023-12-01T06:30:41.319600Z"
    },
    "papermill": {
     "duration": null,
     "end_time": null,
     "exception": null,
     "start_time": null,
     "status": "pending"
    },
    "tags": []
   },
   "outputs": [],
   "source": [
    "class Generator(nn.Module):\n",
    "    \n",
    "    def __init__(self, scale_factor):\n",
    "        super(Generator, self).__init__()\n",
    "        num_upsample_block = int(math.log(scale_factor, 2))\n",
    "\n",
    "        self.b1 = nn.Sequential(nn.Conv2d(3, 64, kernel_size=9, padding=4),nn.PReLU())\n",
    "        self.b2 = ResidualBlock(64)\n",
    "        self.b3 = ResidualBlock(64)\n",
    "        self.b4 = ResidualBlock(64)\n",
    "        self.b5 = ResidualBlock(64)\n",
    "        self.b6 = ResidualBlock(64)\n",
    "        self.b7 = nn.Sequential(\n",
    "            nn.Conv2d(64, 64, kernel_size=3, padding=1),\n",
    "            nn.BatchNorm2d(64)\n",
    "        )\n",
    "        temp_b8 = [UpsampleBlock(64, 2) for i in range(num_upsample_block)] + [nn.Conv2d(64, 3, kernel_size=9, padding=4)]\n",
    "        self.b8 = nn.Sequential(*temp_b8)\n",
    "        \n",
    "    def forward(self, x):\n",
    "        x1 = self.b1(x)\n",
    "        x2 = self.b2(x1)\n",
    "        x3 = self.b3(x2)\n",
    "        x4 = self.b4(x3)\n",
    "        x5 = self.b5(x4)\n",
    "        x6 = self.b6(x5)\n",
    "        x7 = self.b7(x6)\n",
    "        x8 = self.b8(x1 + x7)\n",
    "        return (torch.tanh(x8) + 1) / 2\n"
   ]
  },
  {
   "cell_type": "markdown",
   "id": "a17f3367",
   "metadata": {
    "papermill": {
     "duration": null,
     "end_time": null,
     "exception": null,
     "start_time": null,
     "status": "pending"
    },
    "tags": []
   },
   "source": [
    "## Discriminator"
   ]
  },
  {
   "cell_type": "code",
   "execution_count": null,
   "id": "cba9245b",
   "metadata": {
    "execution": {
     "iopub.execute_input": "2023-12-01T06:30:41.601046Z",
     "iopub.status.busy": "2023-12-01T06:30:41.600322Z",
     "iopub.status.idle": "2023-12-01T06:30:41.611663Z",
     "shell.execute_reply": "2023-12-01T06:30:41.610574Z",
     "shell.execute_reply.started": "2023-12-01T06:30:41.601015Z"
    },
    "papermill": {
     "duration": null,
     "end_time": null,
     "exception": null,
     "start_time": null,
     "status": "pending"
    },
    "tags": []
   },
   "outputs": [],
   "source": [
    "class Discriminator(nn.Module):\n",
    "    __doc__ = \"\"\"SIMPLE BINARY IMAGE CLASSIFICATION MODEL\"\"\"\n",
    "    def __init__(self):\n",
    "        super(Discriminator, self).__init__()\n",
    "        self.net = nn.Sequential(\n",
    "            nn.Conv2d(3, 64, kernel_size=3, padding=1),              # LAYER 1\n",
    "            nn.LeakyReLU(0.2),\n",
    "\n",
    "            nn.Conv2d(64, 64, kernel_size=3, stride=2, padding=1),   # LAYER 2\n",
    "            nn.BatchNorm2d(64),\n",
    "            nn.LeakyReLU(0.2),\n",
    "\n",
    "            nn.Conv2d(64, 128, kernel_size=3, padding=1),            # LAYER 3\n",
    "            nn.BatchNorm2d(128),\n",
    "            nn.LeakyReLU(0.2),\n",
    "\n",
    "            nn.Conv2d(128, 256, kernel_size=3, padding=1),           # LAYER 4\n",
    "            nn.BatchNorm2d(256),\n",
    "            nn.LeakyReLU(0.2),\n",
    "\n",
    "            nn.Conv2d(256, 256, kernel_size=3, stride=2, padding=1), # LAYER 5\n",
    "            nn.BatchNorm2d(256),\n",
    "            nn.LeakyReLU(0.2),\n",
    "\n",
    "            nn.Conv2d(256, 512, kernel_size=3, padding=1),           # LAYER 6\n",
    "            nn.BatchNorm2d(512),\n",
    "            nn.LeakyReLU(0.2),\n",
    "\n",
    "            nn.Conv2d(512, 512, kernel_size=3, stride=2, padding=1), # LAYER 7\n",
    "            nn.BatchNorm2d(512),\n",
    "            nn.LeakyReLU(0.2),\n",
    "            nn.AdaptiveAvgPool2d(1),\n",
    "            \n",
    "            nn.Conv2d(512, 1024, kernel_size=1),                     # LAYER 8\n",
    "            nn.LeakyReLU(0.2),\n",
    "            \n",
    "            nn.Conv2d(1024, 1, kernel_size=1)                        # LAYER 9\n",
    "        )\n",
    "        \n",
    "    def forward(self, x):\n",
    "        batch_size=x.size()[0]\n",
    "        return torch.sigmoid(self.net(x).view(batch_size))\n",
    "     "
   ]
  },
  {
   "cell_type": "markdown",
   "id": "a9a3038e",
   "metadata": {
    "papermill": {
     "duration": null,
     "end_time": null,
     "exception": null,
     "start_time": null,
     "status": "pending"
    },
    "tags": []
   },
   "source": [
    "## Loss Functions"
   ]
  },
  {
   "cell_type": "markdown",
   "id": "fc83011e",
   "metadata": {
    "papermill": {
     "duration": null,
     "end_time": null,
     "exception": null,
     "start_time": null,
     "status": "pending"
    },
    "tags": []
   },
   "source": [
    "### TV Loss"
   ]
  },
  {
   "cell_type": "code",
   "execution_count": null,
   "id": "0739dbba",
   "metadata": {
    "execution": {
     "iopub.execute_input": "2023-12-01T06:30:42.065129Z",
     "iopub.status.busy": "2023-12-01T06:30:42.064755Z",
     "iopub.status.idle": "2023-12-01T06:30:42.074994Z",
     "shell.execute_reply": "2023-12-01T06:30:42.073781Z",
     "shell.execute_reply.started": "2023-12-01T06:30:42.065100Z"
    },
    "papermill": {
     "duration": null,
     "end_time": null,
     "exception": null,
     "start_time": null,
     "status": "pending"
    },
    "tags": []
   },
   "outputs": [],
   "source": [
    "# Total Variation Loss\n",
    "class TVLoss(nn.Module):\n",
    "    \n",
    "    def __init__(self, tv_loss_weight=1):\n",
    "        super(TVLoss, self).__init__()\n",
    "        self.tv_loss_weight = tv_loss_weight\n",
    "        \n",
    "    def forward(self, x):\n",
    "        batch_size = x.size()[0]\n",
    "        h_x = x.size()[2]\n",
    "        w_x = x.size()[3]\n",
    "\n",
    "        count_h = self.tensor_size(x[:, :, 1:, :])\n",
    "        count_w = self.tensor_size(x[:, :, :, 1:])\n",
    "\n",
    "        h_tv = torch.pow(x[:, :, 1:, :] - x[:, :, :h_x - 1, :], 2).sum()\n",
    "        w_tv = torch.pow(x[:, :, :, 1:] - x[:, :, :, :w_x - 1], 2).sum()\n",
    "        return self.tv_loss_weight * 2 * (h_tv / count_h + w_tv / count_w) / batch_size\n",
    "    \n",
    "    @staticmethod \n",
    "    def tensor_size(t):\n",
    "        return t.size()[1] * t.size()[2] * t.size()[3]"
   ]
  },
  {
   "cell_type": "code",
   "execution_count": null,
   "id": "77d60796",
   "metadata": {
    "execution": {
     "iopub.execute_input": "2023-12-01T06:30:42.226330Z",
     "iopub.status.busy": "2023-12-01T06:30:42.225929Z",
     "iopub.status.idle": "2023-12-01T06:30:42.231201Z",
     "shell.execute_reply": "2023-12-01T06:30:42.230248Z",
     "shell.execute_reply.started": "2023-12-01T06:30:42.226301Z"
    },
    "papermill": {
     "duration": null,
     "end_time": null,
     "exception": null,
     "start_time": null,
     "status": "pending"
    },
    "tags": []
   },
   "outputs": [],
   "source": [
    "def get_TV_loss():\n",
    "    tvloss_instance = TVLoss()\n",
    "    def f(out_labels, out_images, target_images):\n",
    "        return tvloss_instance(out_images)\n",
    "    return f"
   ]
  },
  {
   "cell_type": "markdown",
   "id": "2f78b9f1",
   "metadata": {
    "papermill": {
     "duration": null,
     "end_time": null,
     "exception": null,
     "start_time": null,
     "status": "pending"
    },
    "tags": []
   },
   "source": [
    "### Content Loss (VGG16, VGG19, ResNet50)"
   ]
  },
  {
   "cell_type": "code",
   "execution_count": null,
   "id": "bffb8526",
   "metadata": {
    "execution": {
     "iopub.execute_input": "2023-12-01T06:30:42.545191Z",
     "iopub.status.busy": "2023-12-01T06:30:42.544817Z",
     "iopub.status.idle": "2023-12-01T06:30:44.047238Z",
     "shell.execute_reply": "2023-12-01T06:30:44.046284Z",
     "shell.execute_reply.started": "2023-12-01T06:30:42.545161Z"
    },
    "papermill": {
     "duration": null,
     "end_time": null,
     "exception": null,
     "start_time": null,
     "status": "pending"
    },
    "tags": []
   },
   "outputs": [],
   "source": [
    "vgg16_model = vgg16(pretrained=True)\n",
    "vgg16_model.parameters"
   ]
  },
  {
   "cell_type": "code",
   "execution_count": null,
   "id": "82bae467",
   "metadata": {
    "execution": {
     "iopub.execute_input": "2023-12-01T06:30:44.049463Z",
     "iopub.status.busy": "2023-12-01T06:30:44.049159Z",
     "iopub.status.idle": "2023-12-01T06:30:44.539425Z",
     "shell.execute_reply": "2023-12-01T06:30:44.538516Z",
     "shell.execute_reply.started": "2023-12-01T06:30:44.049437Z"
    },
    "papermill": {
     "duration": null,
     "end_time": null,
     "exception": null,
     "start_time": null,
     "status": "pending"
    },
    "tags": []
   },
   "outputs": [],
   "source": [
    "resnet50_model = resnet50(pretrained=True)\n",
    "resnet50_model.parameters"
   ]
  },
  {
   "cell_type": "code",
   "execution_count": null,
   "id": "7f514075",
   "metadata": {
    "execution": {
     "iopub.execute_input": "2023-12-01T06:30:44.540972Z",
     "iopub.status.busy": "2023-12-01T06:30:44.540655Z",
     "iopub.status.idle": "2023-12-01T06:30:44.602670Z",
     "shell.execute_reply": "2023-12-01T06:30:44.601822Z",
     "shell.execute_reply.started": "2023-12-01T06:30:44.540941Z"
    },
    "papermill": {
     "duration": null,
     "end_time": null,
     "exception": null,
     "start_time": null,
     "status": "pending"
    },
    "tags": []
   },
   "outputs": [],
   "source": [
    "# --------------------- RESNET50 ------------------------\n",
    "resnet50_loss_network = nn.Sequential(*[\n",
    "    resnet50_model.conv1,\n",
    "    resnet50_model.bn1,\n",
    "    resnet50_model.relu,\n",
    "    resnet50_model.maxpool,\n",
    "    resnet50_model.layer1,\n",
    "    resnet50_model.layer2,\n",
    "    resnet50_model.layer3,\n",
    "    resnet50_model.layer4,\n",
    "    resnet50_model.avgpool,\n",
    "]).to(DEVICE).eval()\n",
    "for p in resnet50_loss_network.parameters():\n",
    "    p.requires_grad = False\n",
    "# ----------------------- VGG16 ---------------------------\n",
    "vgg16_loss_network = nn.Sequential(*list(vgg16_model.features)[:31]).to(DEVICE).eval()\n",
    "for p in vgg16_loss_network.parameters():\n",
    "    p.requires_grad = False"
   ]
  },
  {
   "cell_type": "code",
   "execution_count": null,
   "id": "261233a4",
   "metadata": {
    "execution": {
     "iopub.execute_input": "2023-12-01T06:30:44.605351Z",
     "iopub.status.busy": "2023-12-01T06:30:44.605043Z",
     "iopub.status.idle": "2023-12-01T06:30:44.610410Z",
     "shell.execute_reply": "2023-12-01T06:30:44.609492Z",
     "shell.execute_reply.started": "2023-12-01T06:30:44.605326Z"
    },
    "papermill": {
     "duration": null,
     "end_time": null,
     "exception": null,
     "start_time": null,
     "status": "pending"
    },
    "tags": []
   },
   "outputs": [],
   "source": [
    "def get_vgg16_loss():\n",
    "    mse_loss_instance = nn.MSELoss()\n",
    "    def f(out_labels, out_images, target_images):\n",
    "        return mse_loss_instance(vgg16_loss_network(out_images), vgg16_loss_network(target_images))\n",
    "    return f"
   ]
  },
  {
   "cell_type": "code",
   "execution_count": null,
   "id": "2e94f64b",
   "metadata": {
    "execution": {
     "iopub.execute_input": "2023-12-01T06:30:44.611762Z",
     "iopub.status.busy": "2023-12-01T06:30:44.611493Z",
     "iopub.status.idle": "2023-12-01T06:30:44.620908Z",
     "shell.execute_reply": "2023-12-01T06:30:44.620086Z",
     "shell.execute_reply.started": "2023-12-01T06:30:44.611738Z"
    },
    "papermill": {
     "duration": null,
     "end_time": null,
     "exception": null,
     "start_time": null,
     "status": "pending"
    },
    "tags": []
   },
   "outputs": [],
   "source": [
    "def get_ResNet50_loss():\n",
    "    mse_loss_instance = nn.MSELoss()\n",
    "    def f(out_labels, out_images, target_images):\n",
    "        return mse_loss_instance(resnet50_loss_network(out_images), resnet50_loss_network(target_images))\n",
    "    return f"
   ]
  },
  {
   "cell_type": "markdown",
   "id": "50b32cf1",
   "metadata": {
    "papermill": {
     "duration": null,
     "end_time": null,
     "exception": null,
     "start_time": null,
     "status": "pending"
    },
    "tags": []
   },
   "source": [
    "### MSE Loss"
   ]
  },
  {
   "cell_type": "code",
   "execution_count": null,
   "id": "2f41fc0c",
   "metadata": {
    "execution": {
     "iopub.execute_input": "2023-12-01T06:30:44.622290Z",
     "iopub.status.busy": "2023-12-01T06:30:44.621976Z",
     "iopub.status.idle": "2023-12-01T06:30:44.635263Z",
     "shell.execute_reply": "2023-12-01T06:30:44.634461Z",
     "shell.execute_reply.started": "2023-12-01T06:30:44.622250Z"
    },
    "papermill": {
     "duration": null,
     "end_time": null,
     "exception": null,
     "start_time": null,
     "status": "pending"
    },
    "tags": []
   },
   "outputs": [],
   "source": [
    "def get_MSE_loss():\n",
    "    mse_loss_instance = nn.MSELoss()\n",
    "    def f(out_labels, out_images, target_images):\n",
    "        return mse_loss_instance(out_images, target_images)\n",
    "    return f"
   ]
  },
  {
   "cell_type": "markdown",
   "id": "9610ef46",
   "metadata": {
    "papermill": {
     "duration": null,
     "end_time": null,
     "exception": null,
     "start_time": null,
     "status": "pending"
    },
    "tags": []
   },
   "source": [
    "### Discriminator Loss"
   ]
  },
  {
   "cell_type": "code",
   "execution_count": null,
   "id": "c240025b",
   "metadata": {
    "execution": {
     "iopub.execute_input": "2023-12-01T06:30:44.636615Z",
     "iopub.status.busy": "2023-12-01T06:30:44.636321Z",
     "iopub.status.idle": "2023-12-01T06:30:44.645943Z",
     "shell.execute_reply": "2023-12-01T06:30:44.645333Z",
     "shell.execute_reply.started": "2023-12-01T06:30:44.636592Z"
    },
    "papermill": {
     "duration": null,
     "end_time": null,
     "exception": null,
     "start_time": null,
     "status": "pending"
    },
    "tags": []
   },
   "outputs": [],
   "source": [
    "def get_Discriminator_loss():\n",
    "    def f(out_labels, out_images, target_images):\n",
    "        return torch.mean(1 - out_labels)\n",
    "    return f"
   ]
  },
  {
   "cell_type": "markdown",
   "id": "97106b68",
   "metadata": {
    "papermill": {
     "duration": null,
     "end_time": null,
     "exception": null,
     "start_time": null,
     "status": "pending"
    },
    "tags": []
   },
   "source": [
    "### Combined Generator Loss"
   ]
  },
  {
   "cell_type": "code",
   "execution_count": null,
   "id": "6d82c41a",
   "metadata": {
    "execution": {
     "iopub.execute_input": "2023-12-01T06:30:44.647388Z",
     "iopub.status.busy": "2023-12-01T06:30:44.647116Z",
     "iopub.status.idle": "2023-12-01T06:30:44.657706Z",
     "shell.execute_reply": "2023-12-01T06:30:44.657005Z",
     "shell.execute_reply.started": "2023-12-01T06:30:44.647363Z"
    },
    "papermill": {
     "duration": null,
     "end_time": null,
     "exception": null,
     "start_time": null,
     "status": "pending"
    },
    "tags": []
   },
   "outputs": [],
   "source": [
    "class GeneratorLoss(nn.Module):\n",
    "    \n",
    "    def __init__(self,loss_metric_list):\n",
    "        super(GeneratorLoss, self).__init__()\n",
    "        self.loss_metric_list = loss_metric_list\n",
    "        \n",
    "    def forward(self, out_labels, out_images, target_images):\n",
    "        \"\"\"STANDARD INPUT: out_labels, out_images, target_images\"\"\"\n",
    "        total_loss = 0\n",
    "        for l,w in self.loss_metric_list:\n",
    "            total_loss += (l(out_labels, out_images, target_images) * w)\n",
    "        return total_loss"
   ]
  },
  {
   "cell_type": "markdown",
   "id": "33a13552",
   "metadata": {
    "papermill": {
     "duration": null,
     "end_time": null,
     "exception": null,
     "start_time": null,
     "status": "pending"
    },
    "tags": []
   },
   "source": [
    "## Training & Evaluation Functions"
   ]
  },
  {
   "cell_type": "code",
   "execution_count": null,
   "id": "0a3bf6c2",
   "metadata": {
    "execution": {
     "iopub.execute_input": "2023-12-01T06:30:44.659738Z",
     "iopub.status.busy": "2023-12-01T06:30:44.658891Z",
     "iopub.status.idle": "2023-12-01T06:30:44.803832Z",
     "shell.execute_reply": "2023-12-01T06:30:44.802810Z",
     "shell.execute_reply.started": "2023-12-01T06:30:44.659712Z"
    },
    "papermill": {
     "duration": null,
     "end_time": null,
     "exception": null,
     "start_time": null,
     "status": "pending"
    },
    "tags": []
   },
   "outputs": [],
   "source": [
    "# ------------------------- CLEAR GPU RAM --------------------------------\n",
    "if torch.cuda.is_available():\n",
    "    torch.cuda.empty_cache()\n",
    "    gc.collect()\n",
    "    print(torch.cuda.memory_summary(device=None, abbreviated=True))"
   ]
  },
  {
   "cell_type": "code",
   "execution_count": null,
   "id": "83769439",
   "metadata": {
    "execution": {
     "iopub.execute_input": "2023-12-01T06:33:55.979492Z",
     "iopub.status.busy": "2023-12-01T06:33:55.978813Z",
     "iopub.status.idle": "2023-12-01T06:33:56.003173Z",
     "shell.execute_reply": "2023-12-01T06:33:56.002080Z",
     "shell.execute_reply.started": "2023-12-01T06:33:55.979456Z"
    },
    "papermill": {
     "duration": null,
     "end_time": null,
     "exception": null,
     "start_time": null,
     "status": "pending"
    },
    "tags": []
   },
   "outputs": [],
   "source": [
    "def train_model(MG,MD,OPT_G,OPT_D,G_loss,TDL,VDL,name=\"Model\",num_epochs=10,upscale_factor=8,RESULTS=None):\n",
    "    \"\"\"\n",
    "    IN:\n",
    "        1. GENERATOR : MODEL + OPTIMIZER\n",
    "        2. DISCRIMINATOR: MODEL + OPTIMIZER\n",
    "        3. NAME\n",
    "        4. \n",
    "    OUT: (DISK) \n",
    "        1. MODEL \n",
    "        2. TRAINING HOSTORY\n",
    "    \"\"\"\n",
    "    # --------------------------- ACTUAL MODEL TRAINING ---------------------------------\n",
    "    NUM_EPOCHS = num_epochs\n",
    "    if RESULTS == None:\n",
    "        RESULTS = {'d_loss': [], 'g_loss': [], 'd_score': [], 'g_score': [], 'psnr': [], 'ssim': []}\n",
    "    for epoch in range(1, NUM_EPOCHS + 1):\n",
    "        train_bar = tqdm(TDL)\n",
    "        epoch_train_history = {'batch_sizes': 0, 'd_loss': 0, 'g_loss': 0, 'd_score': 0, 'g_score': 0}\n",
    "        # SETTING THE MODELS TO TRAIN MODE\n",
    "        MG.train()\n",
    "        MD.train()\n",
    "        #---------------------------------- TRAINING ---------------------------------\n",
    "        for lr_image_set, hr_image_set in train_bar:\n",
    "            batch_size = lr_image_set.size(0)\n",
    "            epoch_train_history['batch_sizes'] += batch_size\n",
    "\n",
    "            # --- --- --- --- LOADING DATA --- --- --- ---\n",
    "            real_img = Variable(hr_image_set)\n",
    "            lr_image_set = Variable(lr_image_set)\n",
    "            if torch.cuda.is_available():\n",
    "                real_img = real_img.cuda()\n",
    "                lr_image_set = lr_image_set.cuda()\n",
    "\n",
    "            # DISCRIMINATOR TRAINING STEP -------------------------\n",
    "            fake_img = MG(lr_image_set) # FORWARD PROPAGATION IN GENERATOR\n",
    "            MD.zero_grad()\n",
    "            real_out = MD(real_img).mean()\n",
    "            fake_out = MD(fake_img).mean()\n",
    "            d_loss = 1 - real_out + fake_out\n",
    "            d_loss.backward(retain_graph=True) # BACKWARD PROPAGATION OF DISCRIMINATOR\n",
    "            OPT_D.step()\n",
    "\n",
    "            # GENERATOR TRAINING STEP ---------------------------\n",
    "            MG.zero_grad()\n",
    "            fake_img = MG(lr_image_set)\n",
    "            fake_out = MD(fake_img).mean()\n",
    "            g_loss = G_loss(fake_out, fake_img, real_img)\n",
    "            g_loss.backward() # BACKWARD PROPAGATION OF GENERATOR\n",
    "            OPT_G.step()\n",
    "\n",
    "            # --- --- --- --- --- --- UPDATING PROGRESS BAR --- --- --- --- --- ---\n",
    "            epoch_train_history['g_loss'] += g_loss.item() * batch_size\n",
    "            epoch_train_history['d_loss'] += d_loss.item() * batch_size\n",
    "            epoch_train_history['d_score'] += real_out.item() * batch_size\n",
    "            epoch_train_history['g_score'] += fake_out.item() * batch_size\n",
    "            train_bar.set_description(desc='[%d/%d] Loss_D: %.4f Loss_G: %.4f D(x): %.4f D(G(z)): %.4f' % (\n",
    "                epoch, NUM_EPOCHS, epoch_train_history['d_loss'] / epoch_train_history['batch_sizes'],\n",
    "                epoch_train_history['g_loss'] / epoch_train_history['batch_sizes'],\n",
    "                epoch_train_history['d_score'] / epoch_train_history['batch_sizes'],\n",
    "                epoch_train_history['g_score'] / epoch_train_history['batch_sizes'])\n",
    "            )\n",
    "\n",
    "        # SETTING THE MODELS TO EVAL MODE (NON TRAINING MODE)\n",
    "        MG.eval()\n",
    "        MD.eval()\n",
    "\n",
    "        # ---------------------------------- VALIDATION ---------------------------------------\n",
    "        with torch.no_grad():\n",
    "            val_bar = tqdm(VDL)\n",
    "            epoch_val_history = {'mse': 0, 'ssims': 0, 'psnr': 0, 'ssim': 0, 'batch_sizes': 0}\n",
    "            for lr, hr in val_bar:\n",
    "                batch_size = lr.size(0)\n",
    "                epoch_val_history['batch_sizes'] += batch_size\n",
    "                if torch.cuda.is_available():\n",
    "                    lr = lr.cuda()\n",
    "                    hr = hr.cuda()\n",
    "                sr = MG(lr)\n",
    "                batch_mse = ((sr - hr) ** 2).data.mean()\n",
    "                batch_ssim = ssim(sr, hr).item()\n",
    "                epoch_val_history['mse'] += batch_mse * batch_size\n",
    "                epoch_val_history['ssims'] += batch_ssim * batch_size\n",
    "                epoch_val_history['psnr'] = 10 * math.log10((hr.max()**2) / (epoch_val_history['mse'] / epoch_val_history['batch_sizes']))\n",
    "                epoch_val_history['ssim'] = epoch_val_history['ssims'] / epoch_val_history['batch_sizes']\n",
    "                val_bar.set_description(desc='[converting LR images to SR images] PSNR: %.4f dB SSIM: %.4f' % (epoch_val_history['psnr'], epoch_val_history['ssim']))\n",
    "\n",
    "        \n",
    "        # ------------------------ APPEND \"EPOCH\" METRICS -------------------------------------\n",
    "        RESULTS['d_loss'].append(epoch_train_history['d_loss'] / epoch_train_history['batch_sizes'])\n",
    "        RESULTS['g_loss'].append(epoch_train_history['g_loss'] / epoch_train_history['batch_sizes'])\n",
    "        RESULTS['d_score'].append(epoch_train_history['d_score'] / epoch_train_history['batch_sizes'])\n",
    "        RESULTS['g_score'].append(epoch_train_history['g_score'] / epoch_train_history['batch_sizes'])\n",
    "        RESULTS['psnr'].append(epoch_val_history['psnr'])\n",
    "        RESULTS['ssim'].append(epoch_val_history['ssim'])\n",
    "\n",
    "    #-------------------------------- SAVING GENERATOR, DISCRIMINATOR AND HISTORY ------------------------------\n",
    "    MODEL_DIR = f\"m_{name}/\"\n",
    "    if not os.path.exists(MODEL_DIR):\n",
    "        os.makedirs(MODEL_DIR)\n",
    "    OUT_DIR = 'statistics/'\n",
    "    if not os.path.exists(OUT_DIR):\n",
    "        os.makedirs(OUT_DIR)\n",
    "    torch.save(MG.state_dict(), f'm_{name}/{name}_G_{upscale_factor}.pth')\n",
    "    torch.save(MD.state_dict(), f'm_{name}/{name}_D_{upscale_factor}.pth')\n",
    "    data_frame = pd.DataFrame(\n",
    "        data={\n",
    "            'Loss_D': RESULTS['d_loss'],\n",
    "            'Loss_G': RESULTS['g_loss'], \n",
    "            'Score_D': RESULTS['d_score'],\n",
    "            'Score_G': RESULTS['g_score'], \n",
    "            'PSNR': RESULTS['psnr'], \n",
    "            'SSIM': RESULTS['ssim']\n",
    "        },\n",
    "        index=range(1, epoch + 1)\n",
    "    )\n",
    "    data_frame.to_csv(OUT_DIR + f'{name}_train_history.csv', index_label='Epoch')\n",
    "    return RESULTS"
   ]
  },
  {
   "cell_type": "code",
   "execution_count": null,
   "id": "00c39e11",
   "metadata": {
    "execution": {
     "iopub.execute_input": "2023-12-01T06:33:56.443095Z",
     "iopub.status.busy": "2023-12-01T06:33:56.442704Z",
     "iopub.status.idle": "2023-12-01T06:33:56.453790Z",
     "shell.execute_reply": "2023-12-01T06:33:56.452863Z",
     "shell.execute_reply.started": "2023-12-01T06:33:56.443062Z"
    },
    "papermill": {
     "duration": null,
     "end_time": null,
     "exception": null,
     "start_time": null,
     "status": "pending"
    },
    "tags": []
   },
   "outputs": [],
   "source": [
    "def test_low_res_transform(crop_size,upscale_factor,h,w):\n",
    "    return transforms.Compose([transforms.ToPILImage(), transforms.Resize((h//upscale_factor,w//upscale_factor), interpolation = Image.BICUBIC), transforms.ToTensor()])\n",
    "\n",
    "def evaluate_model(the_model,the_test_image,the_history,upscale_factor=8):\n",
    "    \n",
    "    # ------------------- PREDICTION ---------------------------\n",
    "    image_hr = the_test_image\n",
    "    image_hr = transforms.ToTensor()(image_hr).unsqueeze(0)\n",
    "    n,c,h,w = image_hr.shape\n",
    "    image_lr = test_low_res_transform(CROP_SIZE,upscale_factor,h,w)(image_hr[0])[None,:]\n",
    "    image_sr = the_model(image_lr.to(DEVICE))\n",
    "    \n",
    "    # ---------------------- VISUALIZATION ----------------------\n",
    "    n_rows, n_cols = 3,1\n",
    "    fig, axs = plt.subplots(n_rows, n_cols,figsize=(15, 20), tight_layout=True)\n",
    "    cnt1 = 0\n",
    "    a = axs[cnt1]\n",
    "    a.axis('off')\n",
    "    a.set_title(f'Low-{tuple(image_hr[0].shape)}')\n",
    "    a.imshow(image_hr[0].permute(1, 2, 0))\n",
    "    cnt1+=1 \n",
    "    \n",
    "    a = axs[cnt1]\n",
    "    a.axis('off')\n",
    "    a.set_title(f'Low-{tuple(image_lr[0].shape)}')\n",
    "    a.imshow(image_lr[0].permute(1, 2, 0))\n",
    "    cnt1+=1 \n",
    "    \n",
    "    a = axs[cnt1]\n",
    "    a.axis('off')\n",
    "    a.set_title(f'Super-{tuple(image_sr[0].shape)}')\n",
    "    a.imshow(transforms.ToPILImage()(image_sr[0].data.cpu()))\n",
    "    cnt1+=1 "
   ]
  },
  {
   "cell_type": "code",
   "execution_count": null,
   "id": "a8d7ee0c",
   "metadata": {
    "execution": {
     "iopub.execute_input": "2023-12-01T06:58:28.857779Z",
     "iopub.status.busy": "2023-12-01T06:58:28.857412Z",
     "iopub.status.idle": "2023-12-01T06:58:28.868068Z",
     "shell.execute_reply": "2023-12-01T06:58:28.866882Z",
     "shell.execute_reply.started": "2023-12-01T06:58:28.857750Z"
    },
    "papermill": {
     "duration": null,
     "end_time": null,
     "exception": null,
     "start_time": null,
     "status": "pending"
    },
    "tags": []
   },
   "outputs": [],
   "source": [
    "def plot_metrics(R):\n",
    "    n_rows, n_cols = 3,2\n",
    "    fig, axs = plt.subplots(n_rows, n_cols,figsize=(15, 10), tight_layout=True)\n",
    "    metrics = [['d_loss','g_loss'],['d_score','g_score'],['psnr','ssim']]\n",
    "    for i,l in enumerate(metrics):\n",
    "        for j,ele in enumerate(l):\n",
    "            a = axs[i,j]\n",
    "            a.set_title(ele)\n",
    "            a.plot(R[ele])\n",
    "    plt.show()"
   ]
  },
  {
   "cell_type": "markdown",
   "id": "01f4db17",
   "metadata": {
    "papermill": {
     "duration": null,
     "end_time": null,
     "exception": null,
     "start_time": null,
     "status": "pending"
    },
    "tags": []
   },
   "source": [
    "## Experiment\n"
   ]
  },
  {
   "cell_type": "code",
   "execution_count": null,
   "id": "523941f1",
   "metadata": {
    "execution": {
     "iopub.execute_input": "2023-12-01T06:33:57.190039Z",
     "iopub.status.busy": "2023-12-01T06:33:57.189395Z",
     "iopub.status.idle": "2023-12-01T06:33:57.196651Z",
     "shell.execute_reply": "2023-12-01T06:33:57.195783Z",
     "shell.execute_reply.started": "2023-12-01T06:33:57.190005Z"
    },
    "papermill": {
     "duration": null,
     "end_time": null,
     "exception": null,
     "start_time": null,
     "status": "pending"
    },
    "tags": []
   },
   "outputs": [],
   "source": [
    "TRAIN_DIR_PATH = \"/kaggle/input/objectdetectiondatasetcar/car\"\n",
    "EXP = {'name':\"Exp3\"}\n",
    "BASE, ORDER = 2,3\n",
    "UPSCALE_FACTOR = BASE ** ORDER\n",
    "CROP_SIZE = UPSCALE_FACTOR * 13\n",
    "EXP['n_epochs'] = 30\n",
    "EXP['RESULTS'] = None\n",
    "# DATALOADERS\n",
    "custome_files = [os.path.join(TRAIN_DIR_PATH,file_name) for file_name in day_1]"
   ]
  },
  {
   "cell_type": "code",
   "execution_count": null,
   "id": "ecf91caa",
   "metadata": {
    "execution": {
     "iopub.execute_input": "2023-12-01T06:33:57.511352Z",
     "iopub.status.busy": "2023-12-01T06:33:57.510944Z",
     "iopub.status.idle": "2023-12-01T06:33:57.579982Z",
     "shell.execute_reply": "2023-12-01T06:33:57.579016Z",
     "shell.execute_reply.started": "2023-12-01T06:33:57.511322Z"
    },
    "papermill": {
     "duration": null,
     "end_time": null,
     "exception": null,
     "start_time": null,
     "status": "pending"
    },
    "tags": []
   },
   "outputs": [],
   "source": [
    "EXP['G'] = Generator(UPSCALE_FACTOR).to(DEVICE)\n",
    "EXP['D'] = Discriminator().to(DEVICE)\n",
    "EXP['G_loss'] = GeneratorLoss([\n",
    "    (get_Discriminator_loss(), 0.002),\n",
    "    (get_vgg16_loss(), 0.005),\n",
    "    (get_TV_loss(), 2e-8),\n",
    "    (get_MSE_loss(), 1),\n",
    "]).to(DEVICE)"
   ]
  },
  {
   "cell_type": "code",
   "execution_count": null,
   "id": "27b33485",
   "metadata": {
    "execution": {
     "iopub.execute_input": "2023-12-01T06:33:57.932862Z",
     "iopub.status.busy": "2023-12-01T06:33:57.932099Z",
     "iopub.status.idle": "2023-12-01T06:37:46.103915Z",
     "shell.execute_reply": "2023-12-01T06:37:46.102794Z",
     "shell.execute_reply.started": "2023-12-01T06:33:57.932829Z"
    },
    "papermill": {
     "duration": null,
     "end_time": null,
     "exception": null,
     "start_time": null,
     "status": "pending"
    },
    "tags": []
   },
   "outputs": [],
   "source": [
    "EXP['train_loader'], EXP['val_loader'] = get_train_valid_data_loaders(file_names=custome_files, ds_scale_factor=3,upscale_factor=UPSCALE_FACTOR)\n",
    "EXP['G_optim'] = optim.Adam(EXP['G'].parameters(), lr=0.0001)\n",
    "EXP['D_optim'] = optim.Adam(EXP['D'].parameters(), lr=0.0001)\n",
    "EXP['RESULTS'] = train_model(\n",
    "    MG=EXP['G'], MD=EXP['D'], OPT_G=EXP['G_optim'], OPT_D=EXP['D_optim'],\n",
    "    G_loss=EXP['G_loss'], TDL=EXP['train_loader'],\n",
    "    VDL=EXP['val_loader'], name=EXP['name'], num_epochs=25,\n",
    "    RESULTS=EXP['RESULTS']\n",
    ")"
   ]
  },
  {
   "cell_type": "code",
   "execution_count": null,
   "id": "4a400090",
   "metadata": {
    "execution": {
     "iopub.execute_input": "2023-12-01T06:52:14.017445Z",
     "iopub.status.busy": "2023-12-01T06:52:14.016642Z",
     "iopub.status.idle": "2023-12-01T06:52:14.080914Z",
     "shell.execute_reply": "2023-12-01T06:52:14.080203Z",
     "shell.execute_reply.started": "2023-12-01T06:52:14.017403Z"
    },
    "papermill": {
     "duration": null,
     "end_time": null,
     "exception": null,
     "start_time": null,
     "status": "pending"
    },
    "tags": []
   },
   "outputs": [],
   "source": [
    "the_model = Generator(UPSCALE_FACTOR).eval()\n",
    "the_model.load_state_dict(torch.load(f\"/kaggle/working/m_{EXP['name']}/{EXP['name']}_G_{UPSCALE_FACTOR}.pth\"))\n",
    "the_model = the_model.to(DEVICE)\n",
    "the_test_image = Image.open(os.path.join(TRAIN_DIR_PATH,day_1[0]))\n",
    "the_history = pd.read_csv(f\"/kaggle/working/statistics/{EXP['name']}_train_history.csv\")"
   ]
  },
  {
   "cell_type": "code",
   "execution_count": null,
   "id": "f967deae",
   "metadata": {
    "execution": {
     "iopub.execute_input": "2023-12-01T06:52:17.797068Z",
     "iopub.status.busy": "2023-12-01T06:52:17.796120Z",
     "iopub.status.idle": "2023-12-01T06:52:20.683396Z",
     "shell.execute_reply": "2023-12-01T06:52:20.682151Z",
     "shell.execute_reply.started": "2023-12-01T06:52:17.797035Z"
    },
    "papermill": {
     "duration": null,
     "end_time": null,
     "exception": null,
     "start_time": null,
     "status": "pending"
    },
    "tags": []
   },
   "outputs": [],
   "source": [
    "evaluate_model(the_model,the_test_image,the_history,UPSCALE_FACTOR)"
   ]
  },
  {
   "cell_type": "code",
   "execution_count": null,
   "id": "1f615b3d",
   "metadata": {
    "execution": {
     "iopub.execute_input": "2023-12-01T06:58:35.427298Z",
     "iopub.status.busy": "2023-12-01T06:58:35.426613Z",
     "iopub.status.idle": "2023-12-01T06:58:36.902313Z",
     "shell.execute_reply": "2023-12-01T06:58:36.901394Z",
     "shell.execute_reply.started": "2023-12-01T06:58:35.427265Z"
    },
    "papermill": {
     "duration": null,
     "end_time": null,
     "exception": null,
     "start_time": null,
     "status": "pending"
    },
    "tags": []
   },
   "outputs": [],
   "source": [
    "plot_metrics(EXP['RESULTS'])"
   ]
  },
  {
   "cell_type": "markdown",
   "id": "9fa8b757",
   "metadata": {
    "papermill": {
     "duration": null,
     "end_time": null,
     "exception": null,
     "start_time": null,
     "status": "pending"
    },
    "tags": []
   },
   "source": [
    "## END"
   ]
  },
  {
   "cell_type": "code",
   "execution_count": null,
   "id": "92635d3f",
   "metadata": {
    "papermill": {
     "duration": null,
     "end_time": null,
     "exception": null,
     "start_time": null,
     "status": "pending"
    },
    "tags": []
   },
   "outputs": [],
   "source": []
  },
  {
   "cell_type": "code",
   "execution_count": null,
   "id": "7a528dd1",
   "metadata": {
    "papermill": {
     "duration": null,
     "end_time": null,
     "exception": null,
     "start_time": null,
     "status": "pending"
    },
    "tags": []
   },
   "outputs": [],
   "source": []
  }
 ],
 "metadata": {
  "kaggle": {
   "accelerator": "gpu",
   "dataSources": [
    {
     "datasetId": 3508995,
     "sourceId": 6121764,
     "sourceType": "datasetVersion"
    }
   ],
   "dockerImageVersionId": 30588,
   "isGpuEnabled": true,
   "isInternetEnabled": true,
   "language": "python",
   "sourceType": "notebook"
  },
  "kernelspec": {
   "display_name": "Python 3",
   "language": "python",
   "name": "python3"
  },
  "language_info": {
   "codemirror_mode": {
    "name": "ipython",
    "version": 3
   },
   "file_extension": ".py",
   "mimetype": "text/x-python",
   "name": "python",
   "nbconvert_exporter": "python",
   "pygments_lexer": "ipython3",
   "version": "3.10.12"
  },
  "papermill": {
   "default_parameters": {},
   "duration": null,
   "end_time": null,
   "environment_variables": {},
   "exception": null,
   "input_path": "__notebook__.ipynb",
   "output_path": "__notebook__.ipynb",
   "parameters": {},
   "start_time": "2023-12-01T06:59:38.187101",
   "version": "2.4.0"
  }
 },
 "nbformat": 4,
 "nbformat_minor": 5
}